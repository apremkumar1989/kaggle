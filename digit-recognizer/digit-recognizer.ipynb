{
 "cells": [
  {
   "cell_type": "code",
   "execution_count": 87,
   "metadata": {
    "collapsed": false
   },
   "outputs": [],
   "source": [
    "#https://www.kaggle.com/c/digit-recognizer\n",
    "import pandas as pd\n",
    "import numpy as np\n",
    "import random\n",
    "from collections import Counter\n",
    "# Import the `RandomForestClassifier`\n",
    "from sklearn.ensemble import RandomForestClassifier"
   ]
  },
  {
   "cell_type": "code",
   "execution_count": 88,
   "metadata": {
    "collapsed": false
   },
   "outputs": [],
   "source": [
    "train_data = pd.read_csv('train.csv')\n",
    "test = pd.read_csv('test.csv')\n",
    "\n",
    "random.seed(150)\n",
    "\n",
    "rows = random.sample(train_data.index, np.floor(.2*len(train_data)).astype(int))\n",
    "validation = train_data.ix[rows]\n",
    "train = train_data.drop(rows)"
   ]
  },
  {
   "cell_type": "code",
   "execution_count": 66,
   "metadata": {
    "collapsed": false
   },
   "outputs": [
    {
     "name": "stdout",
     "output_type": "stream",
     "text": [
      "train data size: 33600\n",
      "validation data size: 8400\n",
      "test data size: 28000\n"
     ]
    }
   ],
   "source": [
    "print('train data size: {}'.format(len(train)))\n",
    "print('validation data size: {}'.format(len(validation)))\n",
    "print('test data size: {}'.format(len(test)))"
   ]
  },
  {
   "cell_type": "code",
   "execution_count": 9,
   "metadata": {
    "collapsed": false
   },
   "outputs": [
    {
     "data": {
      "text/plain": [
       "Counter({1: 3780, 7: 3506, 3: 3432, 9: 3373, 6: 3333, 2: 3316, 0: 3293, 4: 3259, 8: 3221, 5: 3087})"
      ]
     },
     "execution_count": 9,
     "metadata": {},
     "output_type": "execute_result"
    }
   ],
   "source": [
    "c=Counter(train.label)\n",
    "c"
   ]
  },
  {
   "cell_type": "code",
   "execution_count": 89,
   "metadata": {
    "collapsed": false
   },
   "outputs": [],
   "source": [
    "features = train.columns.values[1:]\n",
    "target = 'label'\n",
    "\n",
    "features_train = train[features][:]\n",
    "target_train = train[target]\n",
    "\n",
    "features_validation = validation[features][:]\n",
    "target_validation = validation[target]\n",
    "\n",
    "features_test = test[features][:]"
   ]
  },
  {
   "cell_type": "code",
   "execution_count": 58,
   "metadata": {
    "collapsed": true
   },
   "outputs": [],
   "source": [
    "from sklearn.linear_model import LogisticRegression\n",
    "my_lr = LogisticRegression(verbose=True,penalty='l1')\n"
   ]
  },
  {
   "cell_type": "code",
   "execution_count": 59,
   "metadata": {
    "collapsed": false
   },
   "outputs": [
    {
     "name": "stdout",
     "output_type": "stream",
     "text": [
      "[LibLinear]Done...\n"
     ]
    }
   ],
   "source": [
    "my_lr = my_lr.fit(features_train,target_train)\n",
    "print('Done...')"
   ]
  },
  {
   "cell_type": "code",
   "execution_count": 60,
   "metadata": {
    "collapsed": false
   },
   "outputs": [
    {
     "name": "stdout",
     "output_type": "stream",
     "text": [
      "0.938761904762\n",
      "0.9375\n"
     ]
    }
   ],
   "source": [
    "# Print the score\n",
    "print(my_lr.score(features_train, target_train))\n",
    "print(my_lr.score(features_validation, target_validation))\n",
    "pred_test = my_lr.predict(features_test)"
   ]
  },
  {
   "cell_type": "code",
   "execution_count": 61,
   "metadata": {
    "collapsed": false
   },
   "outputs": [
    {
     "name": "stdout",
     "output_type": "stream",
     "text": [
      "(28000, 1)\n",
      "1\n"
     ]
    }
   ],
   "source": [
    "PassengerId =np.array(range(1, len(test) + 1 ,1)).astype(int)\n",
    "my_solution = pd.DataFrame(pred_test, PassengerId, columns = [\"Label\"])\n",
    "#print(my_solution)\n",
    "\n",
    "# Check that your data frame has 418 entries\n",
    "print(my_solution.shape)\n",
    "print(1)\n",
    "# Write your solution to a csv file with the name my_solution.csv\n",
    "my_solution.to_csv(\"my_log_reg_solution.csv\", index_label = [\"ImageId\"])"
   ]
  },
  {
   "cell_type": "code",
   "execution_count": 78,
   "metadata": {
    "collapsed": false
   },
   "outputs": [
    {
     "name": "stdout",
     "output_type": "stream",
     "text": [
      "0.999761904762\n"
     ]
    }
   ],
   "source": [
    "forest = RandomForestClassifier(max_depth = 200, min_samples_split=5, n_estimators = 100, random_state = 1)\n",
    "my_forest = forest.fit(features_train, target_train)\n",
    "pred_test = my_forest.predict(features_test)\n",
    "print(my_forest.score(features_validation,target_validation))"
   ]
  },
  {
   "cell_type": "code",
   "execution_count": 79,
   "metadata": {
    "collapsed": false
   },
   "outputs": [
    {
     "name": "stdout",
     "output_type": "stream",
     "text": [
      "(28000, 1)\n",
      "1\n"
     ]
    }
   ],
   "source": [
    "PassengerId =np.array(range(1, len(test) + 1 ,1)).astype(int)\n",
    "my_solution = pd.DataFrame(pred_test, PassengerId, columns = [\"Label\"])\n",
    "#print(my_solution)\n",
    "\n",
    "# Check that your data frame has 418 entries\n",
    "print(my_solution.shape)\n",
    "print(1)\n",
    "# Write your solution to a csv file with the name my_solution.csv\n",
    "my_solution.to_csv(\"my_rf_solution.csv\", index_label = [\"ImageId\"])"
   ]
  },
  {
   "cell_type": "code",
   "execution_count": 62,
   "metadata": {
    "collapsed": false
   },
   "outputs": [
    {
     "data": {
      "text/plain": [
       "(42000, 784)"
      ]
     },
     "execution_count": 62,
     "metadata": {},
     "output_type": "execute_result"
    }
   ],
   "source": [
    "features_train.shape"
   ]
  },
  {
   "cell_type": "code",
   "execution_count": 82,
   "metadata": {
    "collapsed": false
   },
   "outputs": [
    {
     "name": "stdout",
     "output_type": "stream",
     "text": [
      "0.975595238095\n"
     ]
    }
   ],
   "source": [
    "from sklearn.neighbors import KNeighborsClassifier\n",
    "my_knn = KNeighborsClassifier()\n",
    "my_knn = my_knn.fit(features_train,target_train)\n",
    "pred_test = my_knn.predict(features_test)\n",
    "print(my_knn.score(features_validation,target_validation))"
   ]
  },
  {
   "cell_type": "code",
   "execution_count": 86,
   "metadata": {
    "collapsed": false
   },
   "outputs": [
    {
     "name": "stdout",
     "output_type": "stream",
     "text": [
      "(28000, 1)\n",
      "1\n"
     ]
    }
   ],
   "source": [
    "PassengerId =np.array(range(1, len(test) + 1 ,1)).astype(int)\n",
    "my_solution = pd.DataFrame(pred_test, PassengerId, columns = [\"Label\"])\n",
    "#print(my_solution)\n",
    "\n",
    "# Check that your data frame has 418 entries\n",
    "print(my_solution.shape)\n",
    "print(1)\n",
    "# Write your solution to a csv file with the name my_solution.csv\n",
    "my_solution.to_csv(\"my_nn_solution.csv\", index_label = [\"ImageId\"])"
   ]
  },
  {
   "cell_type": "code",
   "execution_count": 84,
   "metadata": {
    "collapsed": false
   },
   "outputs": [
    {
     "data": {
      "text/plain": [
       "(8400, 785)"
      ]
     },
     "execution_count": 84,
     "metadata": {},
     "output_type": "execute_result"
    }
   ],
   "source": [
    "validation.shape"
   ]
  },
  {
   "cell_type": "code",
   "execution_count": 85,
   "metadata": {
    "collapsed": false
   },
   "outputs": [
    {
     "data": {
      "text/plain": [
       "(42000, 785)"
      ]
     },
     "execution_count": 85,
     "metadata": {},
     "output_type": "execute_result"
    }
   ],
   "source": [
    "train.shape"
   ]
  },
  {
   "cell_type": "code",
   "execution_count": null,
   "metadata": {
    "collapsed": false
   },
   "outputs": [],
   "source": []
  },
  {
   "cell_type": "code",
   "execution_count": null,
   "metadata": {
    "collapsed": true
   },
   "outputs": [],
   "source": []
  }
 ],
 "metadata": {
  "kernelspec": {
   "display_name": "Python 2",
   "language": "python",
   "name": "python2"
  },
  "language_info": {
   "codemirror_mode": {
    "name": "ipython",
    "version": 2
   },
   "file_extension": ".py",
   "mimetype": "text/x-python",
   "name": "python",
   "nbconvert_exporter": "python",
   "pygments_lexer": "ipython2",
   "version": "2.7.10"
  }
 },
 "nbformat": 4,
 "nbformat_minor": 0
}
