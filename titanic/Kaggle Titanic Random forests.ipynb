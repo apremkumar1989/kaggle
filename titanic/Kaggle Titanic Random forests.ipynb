{
 "cells": [
  {
   "cell_type": "code",
   "execution_count": 576,
   "metadata": {
    "collapsed": false
   },
   "outputs": [],
   "source": [
    "#Competition Url: https://www.kaggle.com/c/titanic\n",
    "import pandas as pd\n",
    "import numpy as np\n",
    "import random\n",
    "# Import the `RandomForestClassifier`\n",
    "from sklearn.ensemble import RandomForestClassifier"
   ]
  },
  {
   "cell_type": "code",
   "execution_count": 577,
   "metadata": {
    "collapsed": false
   },
   "outputs": [
    {
     "name": "stdout",
     "output_type": "stream",
     "text": [
      "   PassengerId  Survived  Pclass  \\\n",
      "0            1         0       3   \n",
      "1            2         1       1   \n",
      "2            3         1       3   \n",
      "3            4         1       1   \n",
      "4            5         0       3   \n",
      "\n",
      "                                                Name     Sex  Age  SibSp  \\\n",
      "0                            Braund, Mr. Owen Harris    male   22      1   \n",
      "1  Cumings, Mrs. John Bradley (Florence Briggs Th...  female   38      1   \n",
      "2                             Heikkinen, Miss. Laina  female   26      0   \n",
      "3       Futrelle, Mrs. Jacques Heath (Lily May Peel)  female   35      1   \n",
      "4                           Allen, Mr. William Henry    male   35      0   \n",
      "\n",
      "   Parch            Ticket     Fare Cabin Embarked  \n",
      "0      0         A/5 21171   7.2500   NaN        S  \n",
      "1      0          PC 17599  71.2833   C85        C  \n",
      "2      0  STON/O2. 3101282   7.9250   NaN        S  \n",
      "3      0            113803  53.1000  C123        S  \n",
      "4      0            373450   8.0500   NaN        S  \n",
      "   PassengerId  Pclass                                          Name     Sex  \\\n",
      "0          892       3                              Kelly, Mr. James    male   \n",
      "1          893       3              Wilkes, Mrs. James (Ellen Needs)  female   \n",
      "2          894       2                     Myles, Mr. Thomas Francis    male   \n",
      "3          895       3                              Wirz, Mr. Albert    male   \n",
      "4          896       3  Hirvonen, Mrs. Alexander (Helga E Lindqvist)  female   \n",
      "\n",
      "    Age  SibSp  Parch   Ticket     Fare Cabin Embarked  \n",
      "0  34.5      0      0   330911   7.8292   NaN        Q  \n",
      "1  47.0      1      0   363272   7.0000   NaN        S  \n",
      "2  62.0      0      0   240276   9.6875   NaN        Q  \n",
      "3  27.0      0      0   315154   8.6625   NaN        S  \n",
      "4  22.0      1      1  3101298  12.2875   NaN        S  \n"
     ]
    }
   ],
   "source": [
    "# Load the train and test datasets to create two DataFrames\n",
    "train_url = \"train.csv\"\n",
    "train_data = pd.read_csv(train_url)\n",
    "\n",
    "random.seed(150)\n",
    "\n",
    "rows = random.sample(train_data.index, np.floor(.2*len(train_data)).astype(int))\n",
    "validation = train_data.ix[rows]\n",
    "train = train_data.drop(rows)\n",
    "\n",
    "test_url = \"test.csv\"\n",
    "test = pd.read_csv(test_url)\n",
    "#Print the `head` of the train and test dataframes\n",
    "print(train.head())\n",
    "print(test.head())"
   ]
  },
  {
   "cell_type": "code",
   "execution_count": 578,
   "metadata": {
    "collapsed": false
   },
   "outputs": [
    {
     "name": "stdout",
     "output_type": "stream",
     "text": [
      "[0 1 1 1 0 0 0 0 1 1 1 0 0 0 1 0 1 1 1 1 0 0 1 0 1 1 0 0 0 1 0 0 0 0 0 1 0\n",
      " 0 1 0 0 0 1 1 0 0 1 0 0 0 0 0 1 1 0 0 0 0 0 1 0 0 0 0 1 0 1 1 0 0 0 0 0 0\n",
      " 0 0 1 1 0 0 0 0 0 1 1 0 1 0 0 0 0 0 0 0 0 1 0 0 1 0 0 0 1 0 0 1 0 0 1 0 0\n",
      " 0 0 1 0 0 0 0 1 0 0 1 0 0 0 1 0 0 0 0 0 0 0 0 0 1 0 1 1 0 0 1 1 1 1 0 0 1\n",
      " 0 0 0 1 0 1 1 1 1 0 0 0 0 1 0 0 0 0 1 0 0 1 0 0 1 0 1 0 0 0 0 0 1 0 0 0 0\n",
      " 0 1 1 1 1 0 1 0 0 0 0 0 1 1 0 1 1 0 1 1 0 0 0 0 0 0 1 0 0 0 1 1 1 1 0 0 0\n",
      " 1 1 1 0 1 0 1 1 1 0 1 1 0 0 1 1 0 1 1 0 0 1 1 1 0 0 0 1 0 0 1 1 1 1 0 0 0\n",
      " 1 1 1 0 0 0 0 0 0 1 0 1 1 0 0 0 0 0 0 1 1 1 1 0 0 0 1 1 0 0 1 1 1 0 0 0 1\n",
      " 0 1 1 0 1 0 0 0 0 1 0 0 0 0 0 0 0 0 0 1 0 1 0 1 0 0 0 0 0 0 1 1 1 1 1 0 1\n",
      " 0 1 0 0 1 0 0 1 1 1 1 1 1 1 0 0 0 1 0 1 0 1 1 0 1 0 0 0 0 0 1 0 0 1 1 0 0\n",
      " 1 0 0 1 1 0 1 0 0 1 0 0 0 1 0 0 0 0 0 0 1 0 1 1 0 1 0 1 1 0 1 0 1 0 1 0 0\n",
      " 0 1 0 0 1 0 0 1 0 1 0 1 1 0 1 0 0 1 1 0 1 0 1 1 1 0 1 1 0 0 0 0 0 0 0 0 1\n",
      " 1 1 1 1 0 0 1 1 0 1 1 1 0 0 0 1 0 1 0 0 1 0 0 0 1 0 0 1 1 0 0 1 0 0 1 1 1\n",
      " 0 0 1 0 0 1 0 0 1 0 0 1 0 0 0 1 0 0 1 1 0 0 1 0 0 0 1 0 1 1 1 0 1 0 1 0 0\n",
      " 0 0 0 0 1 0 0 0 1 0 0 0 0 1 1 0 1 0 0 1 0 0 1 0 0 0 0 1 1 1 1 0 0 0 1 0 1\n",
      " 1 0 0 0 0 1 1 1 1 1 0 1 0 0 1 0 0 1 0 0 1 0 1 0 0 0 0 0 0 1 0 0 1 0 0 0 1\n",
      " 0 0 1 1 0 0 1 1 0 1 0 0 1 1 0 1 0 0 0 0 0 0 0 0 0 1 0 1 1 1 0 0 0 0 1 0 1\n",
      " 0 0 0 0 0 0 0 1 0 1 1 1 0 0 0 0 1 0 0 0 0 0 0 1 1 0 1 0 0 1 1 1 1 0 0 0 1\n",
      " 0 0 1 0 0 1 0 0 0 0 0 0 1 0 0 0 1 1 1 1 0 0 1 0 0 1 1 0 1 0 1 0 1 0 0 1 1\n",
      " 0 0 0 0 0 0 1 0 1 0]\n"
     ]
    }
   ],
   "source": [
    "target = train[\"Survived\"].values\n",
    "print(target)"
   ]
  },
  {
   "cell_type": "code",
   "execution_count": null,
   "metadata": {
    "collapsed": false
   },
   "outputs": [],
   "source": []
  },
  {
   "cell_type": "code",
   "execution_count": 579,
   "metadata": {
    "collapsed": false
   },
   "outputs": [
    {
     "name": "stderr",
     "output_type": "stream",
     "text": [
      "/Users/premkumar/anaconda/envs/dato-env/lib/python2.7/site-packages/IPython/kernel/__main__.py:2: SettingWithCopyWarning: \n",
      "A value is trying to be set on a copy of a slice from a DataFrame\n",
      "\n",
      "See the the caveats in the documentation: http://pandas.pydata.org/pandas-docs/stable/indexing.html#indexing-view-versus-copy\n",
      "  from IPython.kernel.zmq import kernelapp as app\n",
      "/Users/premkumar/anaconda/envs/dato-env/lib/python2.7/site-packages/IPython/kernel/__main__.py:3: SettingWithCopyWarning: \n",
      "A value is trying to be set on a copy of a slice from a DataFrame\n",
      "\n",
      "See the the caveats in the documentation: http://pandas.pydata.org/pandas-docs/stable/indexing.html#indexing-view-versus-copy\n",
      "  app.launch_new_instance()\n",
      "/Users/premkumar/anaconda/envs/dato-env/lib/python2.7/site-packages/IPython/kernel/__main__.py:4: SettingWithCopyWarning: \n",
      "A value is trying to be set on a copy of a slice from a DataFrame\n",
      "\n",
      "See the the caveats in the documentation: http://pandas.pydata.org/pandas-docs/stable/indexing.html#indexing-view-versus-copy\n",
      "/Users/premkumar/anaconda/envs/dato-env/lib/python2.7/site-packages/IPython/kernel/__main__.py:5: SettingWithCopyWarning: \n",
      "A value is trying to be set on a copy of a slice from a DataFrame\n",
      "\n",
      "See the the caveats in the documentation: http://pandas.pydata.org/pandas-docs/stable/indexing.html#indexing-view-versus-copy\n",
      "/Users/premkumar/anaconda/envs/dato-env/lib/python2.7/site-packages/IPython/kernel/__main__.py:6: SettingWithCopyWarning: \n",
      "A value is trying to be set on a copy of a slice from a DataFrame\n",
      "\n",
      "See the the caveats in the documentation: http://pandas.pydata.org/pandas-docs/stable/indexing.html#indexing-view-versus-copy\n",
      "/Users/premkumar/anaconda/envs/dato-env/lib/python2.7/site-packages/IPython/kernel/__main__.py:7: SettingWithCopyWarning: \n",
      "A value is trying to be set on a copy of a slice from a DataFrame\n",
      "\n",
      "See the the caveats in the documentation: http://pandas.pydata.org/pandas-docs/stable/indexing.html#indexing-view-versus-copy\n",
      "/Users/premkumar/anaconda/envs/dato-env/lib/python2.7/site-packages/IPython/kernel/__main__.py:15: SettingWithCopyWarning: \n",
      "A value is trying to be set on a copy of a slice from a DataFrame\n",
      "\n",
      "See the the caveats in the documentation: http://pandas.pydata.org/pandas-docs/stable/indexing.html#indexing-view-versus-copy\n",
      "/Users/premkumar/anaconda/envs/dato-env/lib/python2.7/site-packages/IPython/kernel/__main__.py:16: SettingWithCopyWarning: \n",
      "A value is trying to be set on a copy of a slice from a DataFrame\n",
      "\n",
      "See the the caveats in the documentation: http://pandas.pydata.org/pandas-docs/stable/indexing.html#indexing-view-versus-copy\n",
      "/Users/premkumar/anaconda/envs/dato-env/lib/python2.7/site-packages/IPython/kernel/__main__.py:17: SettingWithCopyWarning: \n",
      "A value is trying to be set on a copy of a slice from a DataFrame\n",
      "\n",
      "See the the caveats in the documentation: http://pandas.pydata.org/pandas-docs/stable/indexing.html#indexing-view-versus-copy\n",
      "/Users/premkumar/anaconda/envs/dato-env/lib/python2.7/site-packages/IPython/kernel/__main__.py:19: SettingWithCopyWarning: \n",
      "A value is trying to be set on a copy of a slice from a DataFrame\n",
      "\n",
      "See the the caveats in the documentation: http://pandas.pydata.org/pandas-docs/stable/indexing.html#indexing-view-versus-copy\n",
      "/Users/premkumar/anaconda/envs/dato-env/lib/python2.7/site-packages/IPython/kernel/__main__.py:20: SettingWithCopyWarning: \n",
      "A value is trying to be set on a copy of a slice from a DataFrame\n",
      "\n",
      "See the the caveats in the documentation: http://pandas.pydata.org/pandas-docs/stable/indexing.html#indexing-view-versus-copy\n",
      "/Users/premkumar/anaconda/envs/dato-env/lib/python2.7/site-packages/IPython/kernel/__main__.py:21: SettingWithCopyWarning: \n",
      "A value is trying to be set on a copy of a slice from a DataFrame\n",
      "\n",
      "See the the caveats in the documentation: http://pandas.pydata.org/pandas-docs/stable/indexing.html#indexing-view-versus-copy\n",
      "/Users/premkumar/anaconda/envs/dato-env/lib/python2.7/site-packages/IPython/kernel/__main__.py:23: SettingWithCopyWarning: \n",
      "A value is trying to be set on a copy of a slice from a DataFrame\n",
      "\n",
      "See the the caveats in the documentation: http://pandas.pydata.org/pandas-docs/stable/indexing.html#indexing-view-versus-copy\n",
      "/Users/premkumar/anaconda/envs/dato-env/lib/python2.7/site-packages/IPython/kernel/__main__.py:24: SettingWithCopyWarning: \n",
      "A value is trying to be set on a copy of a slice from a DataFrame\n",
      "\n",
      "See the the caveats in the documentation: http://pandas.pydata.org/pandas-docs/stable/indexing.html#indexing-view-versus-copy\n",
      "/Users/premkumar/anaconda/envs/dato-env/lib/python2.7/site-packages/IPython/kernel/__main__.py:25: SettingWithCopyWarning: \n",
      "A value is trying to be set on a copy of a slice from a DataFrame\n",
      "\n",
      "See the the caveats in the documentation: http://pandas.pydata.org/pandas-docs/stable/indexing.html#indexing-view-versus-copy\n"
     ]
    }
   ],
   "source": [
    "# Convert the male and female groups to integer form\n",
    "train[\"Sex\"][train[\"Sex\"] == \"male\"] = 0\n",
    "train[\"Sex\"][train[\"Sex\"] == \"female\"] = 1\n",
    "test[\"Sex\"][test[\"Sex\"] == \"male\"] = 0\n",
    "test[\"Sex\"][test[\"Sex\"] == \"female\"] = 1\n",
    "validation[\"Sex\"][validation[\"Sex\"] == \"male\"] = 0\n",
    "validation[\"Sex\"][validation[\"Sex\"] == \"female\"] = 1\n",
    "\n",
    "# Impute the Embarked variable\n",
    "train[\"Embarked\"] = train[\"Embarked\"].fillna(\"S\")\n",
    "test[\"Embarked\"] = test[\"Embarked\"].fillna(\"S\")\n",
    "validation[\"Embarked\"] = validation[\"Embarked\"].fillna(\"S\")\n",
    "\n",
    "# Convert the Embarked classes to integer form\n",
    "train[\"Embarked\"][train[\"Embarked\"] == \"S\"] = 0\n",
    "train[\"Embarked\"][train[\"Embarked\"] == \"C\"] = 1\n",
    "train[\"Embarked\"][train[\"Embarked\"] == \"Q\"] = 2\n",
    "\n",
    "test[\"Embarked\"][test[\"Embarked\"] == \"S\"] = 0\n",
    "test[\"Embarked\"][test[\"Embarked\"] == \"C\"] = 1\n",
    "test[\"Embarked\"][test[\"Embarked\"] == \"Q\"] = 2\n",
    "\n",
    "validation[\"Embarked\"][validation[\"Embarked\"] == \"S\"] = 0\n",
    "validation[\"Embarked\"][validation[\"Embarked\"] == \"C\"] = 1\n",
    "validation[\"Embarked\"][validation[\"Embarked\"] == \"Q\"] = 2\n",
    "\n"
   ]
  },
  {
   "cell_type": "code",
   "execution_count": 580,
   "metadata": {
    "collapsed": false
   },
   "outputs": [],
   "source": [
    "# Clean data\n",
    "median_ages = np.zeros((2,3))\n",
    "median_ages\n",
    "\n",
    "for i in range(0, 2):\n",
    "    for j in range(0, 3):\n",
    "        median_ages[i,j] = train[(train['Sex'] == i) & \\\n",
    "                              (train['Pclass'] == j+1)]['Age'].dropna().median()\n",
    " \n",
    "median_ages\n",
    "#train['Age'][train['Age'].isnull()] = train['Age'].median()\n",
    "#test['Age'][test['Age'].isnull()] = train['Age'].median()\n",
    "for i in range(0, 2):\n",
    "    for j in range(0, 3):\n",
    "        train.loc[ (train.Age.isnull()) & (train.Sex == i) & (train.Pclass == j+1),\\\n",
    "                'Age'] = median_ages[i,j]\n",
    "        test.loc[ (test.Age.isnull()) & (test.Sex == i) & (test.Pclass == j+1),\\\n",
    "                'Age'] = median_ages[i,j]\n",
    "        validation.loc[ (validation.Age.isnull()) & (validation.Sex == i) & (validation.Pclass == j+1),\\\n",
    "                'Age'] = median_ages[i,j]"
   ]
  },
  {
   "cell_type": "code",
   "execution_count": 581,
   "metadata": {
    "collapsed": false
   },
   "outputs": [],
   "source": [
    "#New features\n",
    "train[\"Dependency\"] = train[\"SibSp\"] + train[\"Parch\"]\n",
    "test[\"Dependency\"] = test[\"SibSp\"] + test[\"Parch\"]\n",
    "validation[\"Dependency\"] = validation[\"SibSp\"] + validation[\"Parch\"]\n",
    "\n",
    "train[\"DependencySquare\"] = pow(train[\"Dependency\"],2)\n",
    "test[\"DependencySquare\"] = pow(test[\"Dependency\"],2)\n",
    "validation[\"DependencySquare\"] = pow(validation[\"Dependency\"],2)\n",
    "\n",
    "train[\"Child\"] = train[\"Age\"].map(lambda x: 1 if x <18 else 0)\n",
    "test[\"Child\"] = test[\"Age\"].map(lambda x: 1 if x <18 else 0)\n",
    "validation[\"Child\"] = validation[\"Age\"].map(lambda x: 1 if x <18 else 0)\n",
    "\n",
    "train[\"AgeGroup\"] = train[\"Age\"].map(lambda x: round(x/10))\n",
    "test[\"AgeGroup\"] = test[\"Age\"].map(lambda x: round(x/10))\n",
    "validation[\"AgeGroup\"] = validation[\"Age\"].map(lambda x: round(x/10))"
   ]
  },
  {
   "cell_type": "code",
   "execution_count": 582,
   "metadata": {
    "collapsed": false
   },
   "outputs": [],
   "source": [
    "train[\"Title\"] = train[\"Name\"].apply(lambda x: x.split(',')[1].split('.')[0].strip())\n",
    "test[\"Title\"] = test[\"Name\"].apply(lambda x: x.split(',')[1].split('.')[0].strip())\n",
    "validation[\"Title\"] = validation[\"Name\"].apply(lambda x: x.split(',')[1].split('.')[0].strip())\n",
    " # a map of more aggregated titles\n",
    "Title_Dictionary = {\n",
    "                        \"Capt\":       \"Officer\",\n",
    "                        \"Col\":        \"Officer\",\n",
    "                        \"Major\":      \"Officer\",\n",
    "                        \"Jonkheer\":   \"Royalty\",\n",
    "                        \"Don\":        \"Royalty\",\n",
    "                        \"Sir\" :       \"Royalty\",\n",
    "                        \"Dr\":         \"Officer\",\n",
    "                        \"Rev\":        \"Officer\",\n",
    "                        \"the Countess\":\"Royalty\",\n",
    "                        \"Dona\":       \"Royalty\",\n",
    "                        \"Mme\":        \"Mrs\",\n",
    "                        \"Mlle\":       \"Miss\",\n",
    "                        \"Ms\":         \"Mrs\",\n",
    "                        \"Mr\" :        \"Mr\",\n",
    "                        \"Mrs\" :       \"Mrs\",\n",
    "                        \"Miss\" :      \"Miss\",\n",
    "                        \"Master\" :    \"Master\",\n",
    "                        \"Lady\" :      \"Royalty\"\n",
    "\n",
    "                        }\n",
    "train['Title'] = train.Title.map(Title_Dictionary)\n",
    "test['Title'] = test.Title.map(Title_Dictionary)\n",
    "validation['Title'] = validation.Title.map(Title_Dictionary)\n",
    "\n",
    "def mapTitle(matrix,title_col,title_vals):\n",
    "    for t in title_vals:\n",
    "        matrix[title_col+'_'+t] = matrix[title_col]==t\n",
    "    return matrix\n",
    "\n",
    "title_vals = set(Title_Dictionary.values())\n",
    "train = mapTitle(train,'Title',title_vals)\n",
    "test = mapTitle(test,'Title',title_vals)\n",
    "validation = mapTitle(validation,'Title',title_vals)\n"
   ]
  },
  {
   "cell_type": "code",
   "execution_count": 583,
   "metadata": {
    "collapsed": false
   },
   "outputs": [
    {
     "name": "stdout",
     "output_type": "stream",
     "text": [
      "['Fare', 'DependencySquare', 'Embarked', 'Title_Mr', 'Age', 'Parch', 'Pclass', 'Title_Master', 'Title_Officer', 'Dependency', 'Title_Royalty', 'Child', 'SibSp', 'Sex', 'Title_Mrs', 'AgeGroup', 'Title_Miss']\n"
     ]
    },
    {
     "name": "stderr",
     "output_type": "stream",
     "text": [
      "/Users/premkumar/anaconda/envs/dato-env/lib/python2.7/site-packages/IPython/kernel/__main__.py:2: SettingWithCopyWarning: \n",
      "A value is trying to be set on a copy of a slice from a DataFrame\n",
      "\n",
      "See the the caveats in the documentation: http://pandas.pydata.org/pandas-docs/stable/indexing.html#indexing-view-versus-copy\n",
      "  from IPython.kernel.zmq import kernelapp as app\n"
     ]
    }
   ],
   "source": [
    "# Impute the missing value with the median\n",
    "test.Fare[152] = test[\"Fare\"].median()\n",
    "\n",
    "#features = [\"Pclass\", \"Age\", \"Sex\", \"Fare\", \"SibSp\",\"Parch\",\"Dependency\", \"Embarked\",\"Child\",\"DependencySquare\",\"AgeGroup\"]\n",
    "features = set(train.columns.values)\n",
    "features = list(features - set([\"PassengerId\",\"Survived\",\"Name\",\"Title\",\"Cabin\",\"Ticket\"]))\n",
    "print(features)\n",
    "\n",
    "# We want the Pclass, Age, Sex, Fare,SibSp, Parch, and Embarked variables\n",
    "features_forest = train[features].values\n",
    "# Building and fitting my_forest\n",
    "forest = RandomForestClassifier(max_depth = 20, min_samples_split=10, n_estimators = 100, random_state = 1)\n",
    "my_forest = forest.fit(features_forest, target)\n",
    "\n"
   ]
  },
  {
   "cell_type": "code",
   "execution_count": 584,
   "metadata": {
    "collapsed": false
   },
   "outputs": [
    {
     "name": "stdout",
     "output_type": "stream",
     "text": [
      "0.903225806452\n",
      "0.803370786517\n",
      "418\n",
      "[ 0.17137896  0.04736977  0.019763    0.17027722  0.10102126  0.01108819\n",
      "  0.0862295   0.0098037   0.0105912   0.05133775  0.00104383  0.00659242\n",
      "  0.02844322  0.15185566  0.04011917  0.03776286  0.0553223 ]\n"
     ]
    }
   ],
   "source": [
    "# Print the score of the fitted random forest\n",
    "print(my_forest.score(features_forest, target))\n",
    "print(my_forest.score(validation[features].values, validation[\"Survived\"].values))\n",
    "\n",
    "# Compute predictions on our test set features then print the length of the prediction vector\n",
    "test_features = test[features].values\n",
    "pred_forest = my_forest.predict(test_features)\n",
    "print(len(pred_forest))\n",
    "print(my_forest.feature_importances_)"
   ]
  },
  {
   "cell_type": "code",
   "execution_count": 585,
   "metadata": {
    "collapsed": false
   },
   "outputs": [
    {
     "name": "stdout",
     "output_type": "stream",
     "text": [
      "(418, 1)\n",
      "1\n"
     ]
    }
   ],
   "source": [
    "PassengerId =np.array(test[\"PassengerId\"]).astype(int)\n",
    "my_solution = pd.DataFrame(pred_forest, PassengerId, columns = [\"Survived\"])\n",
    "#print(my_solution)\n",
    "\n",
    "# Check that your data frame has 418 entries\n",
    "print(my_solution.shape)\n",
    "print(1)\n",
    "# Write your solution to a csv file with the name my_solution.csv\n",
    "my_solution.to_csv(\"my_forest_solution.csv\", index_label = [\"PassengerId\"])"
   ]
  },
  {
   "cell_type": "code",
   "execution_count": null,
   "metadata": {
    "collapsed": false
   },
   "outputs": [],
   "source": []
  },
  {
   "cell_type": "code",
   "execution_count": 586,
   "metadata": {
    "collapsed": false
   },
   "outputs": [
    {
     "name": "stdout",
     "output_type": "stream",
     "text": [
      "[ 0.17137896  0.04736977  0.019763    0.17027722  0.10102126  0.01108819\n",
      "  0.0862295   0.0098037   0.0105912   0.05133775  0.00104383  0.00659242\n",
      "  0.02844322  0.15185566  0.04011917  0.03776286  0.0553223 ]\n"
     ]
    }
   ],
   "source": [
    "print(my_forest.feature_importances_)"
   ]
  },
  {
   "cell_type": "code",
   "execution_count": 587,
   "metadata": {
    "collapsed": false
   },
   "outputs": [
    {
     "name": "stdout",
     "output_type": "stream",
     "text": [
      "[('Title_Royalty', 0.0010438265962982077), ('Child', 0.0065924246565932827), ('Title_Master', 0.0098036987663962134), ('Title_Officer', 0.010591200171633947), ('Parch', 0.011088193625796983), ('Embarked', 0.019762995300468711), ('SibSp', 0.028443222559210866), ('AgeGroup', 0.037762862565979216), ('Title_Mrs', 0.040119165430700036), ('DependencySquare', 0.047369768609168528), ('Dependency', 0.051337754272707425), ('Title_Miss', 0.055322295333721863), ('Pclass', 0.086229496278251841), ('Age', 0.10102125938036062), ('Sex', 0.15185565670709644), ('Title_Mr', 0.1702772164171116), ('Fare', 0.17137896332850422)]\n"
     ]
    }
   ],
   "source": [
    "sf = zip(features,my_forest.feature_importances_)\n",
    "sf =sorted(sf, key=lambda x: x[1])\n",
    "print(sf)"
   ]
  },
  {
   "cell_type": "code",
   "execution_count": 588,
   "metadata": {
    "collapsed": false
   },
   "outputs": [
    {
     "data": {
      "text/plain": [
       "array(['PassengerId', 'Survived', 'Pclass', 'Name', 'Sex', 'Age', 'SibSp',\n",
       "       'Parch', 'Ticket', 'Fare', 'Cabin', 'Embarked', 'Dependency',\n",
       "       'DependencySquare', 'Child', 'AgeGroup', 'Title', 'Title_Mrs',\n",
       "       'Title_Royalty', 'Title_Master', 'Title_Officer', 'Title_Mr',\n",
       "       'Title_Miss'], dtype=object)"
      ]
     },
     "execution_count": 588,
     "metadata": {},
     "output_type": "execute_result"
    }
   ],
   "source": [
    "train.columns.values"
   ]
  },
  {
   "cell_type": "code",
   "execution_count": 589,
   "metadata": {
    "collapsed": false
   },
   "outputs": [
    {
     "name": "stdout",
     "output_type": "stream",
     "text": [
      "178\n"
     ]
    }
   ],
   "source": [
    "print(np.floor(.2*len(train_data)).astype(int))"
   ]
  },
  {
   "cell_type": "code",
   "execution_count": 590,
   "metadata": {
    "collapsed": false
   },
   "outputs": [
    {
     "name": "stdout",
     "output_type": "stream",
     "text": [
      "[1]\n"
     ]
    }
   ],
   "source": [
    "print(np.array(a).astype(int))"
   ]
  },
  {
   "cell_type": "code",
   "execution_count": 591,
   "metadata": {
    "collapsed": false
   },
   "outputs": [
    {
     "data": {
      "text/html": [
       "<div>\n",
       "<table border=\"1\" class=\"dataframe\">\n",
       "  <thead>\n",
       "    <tr style=\"text-align: right;\">\n",
       "      <th></th>\n",
       "      <th>PassengerId</th>\n",
       "      <th>Survived</th>\n",
       "      <th>Pclass</th>\n",
       "      <th>Name</th>\n",
       "      <th>Sex</th>\n",
       "      <th>Age</th>\n",
       "      <th>SibSp</th>\n",
       "      <th>Parch</th>\n",
       "      <th>Ticket</th>\n",
       "      <th>Fare</th>\n",
       "      <th>...</th>\n",
       "      <th>DependencySquare</th>\n",
       "      <th>Child</th>\n",
       "      <th>AgeGroup</th>\n",
       "      <th>Title</th>\n",
       "      <th>Title_Mrs</th>\n",
       "      <th>Title_Royalty</th>\n",
       "      <th>Title_Master</th>\n",
       "      <th>Title_Officer</th>\n",
       "      <th>Title_Mr</th>\n",
       "      <th>Title_Miss</th>\n",
       "    </tr>\n",
       "  </thead>\n",
       "  <tbody>\n",
       "    <tr>\n",
       "      <th>81</th>\n",
       "      <td>82</td>\n",
       "      <td>1</td>\n",
       "      <td>3</td>\n",
       "      <td>Sheerlinck, Mr. Jan Baptist</td>\n",
       "      <td>0</td>\n",
       "      <td>29.0</td>\n",
       "      <td>0</td>\n",
       "      <td>0</td>\n",
       "      <td>345779</td>\n",
       "      <td>9.5000</td>\n",
       "      <td>...</td>\n",
       "      <td>0</td>\n",
       "      <td>0</td>\n",
       "      <td>3</td>\n",
       "      <td>Mr</td>\n",
       "      <td>False</td>\n",
       "      <td>False</td>\n",
       "      <td>False</td>\n",
       "      <td>False</td>\n",
       "      <td>True</td>\n",
       "      <td>False</td>\n",
       "    </tr>\n",
       "    <tr>\n",
       "      <th>657</th>\n",
       "      <td>658</td>\n",
       "      <td>0</td>\n",
       "      <td>3</td>\n",
       "      <td>Bourke, Mrs. John (Catherine)</td>\n",
       "      <td>1</td>\n",
       "      <td>32.0</td>\n",
       "      <td>1</td>\n",
       "      <td>1</td>\n",
       "      <td>364849</td>\n",
       "      <td>15.5000</td>\n",
       "      <td>...</td>\n",
       "      <td>4</td>\n",
       "      <td>0</td>\n",
       "      <td>3</td>\n",
       "      <td>Mrs</td>\n",
       "      <td>True</td>\n",
       "      <td>False</td>\n",
       "      <td>False</td>\n",
       "      <td>False</td>\n",
       "      <td>False</td>\n",
       "      <td>False</td>\n",
       "    </tr>\n",
       "    <tr>\n",
       "      <th>419</th>\n",
       "      <td>420</td>\n",
       "      <td>0</td>\n",
       "      <td>3</td>\n",
       "      <td>Van Impe, Miss. Catharina</td>\n",
       "      <td>1</td>\n",
       "      <td>10.0</td>\n",
       "      <td>0</td>\n",
       "      <td>2</td>\n",
       "      <td>345773</td>\n",
       "      <td>24.1500</td>\n",
       "      <td>...</td>\n",
       "      <td>4</td>\n",
       "      <td>1</td>\n",
       "      <td>1</td>\n",
       "      <td>Miss</td>\n",
       "      <td>False</td>\n",
       "      <td>False</td>\n",
       "      <td>False</td>\n",
       "      <td>False</td>\n",
       "      <td>False</td>\n",
       "      <td>True</td>\n",
       "    </tr>\n",
       "    <tr>\n",
       "      <th>111</th>\n",
       "      <td>112</td>\n",
       "      <td>0</td>\n",
       "      <td>3</td>\n",
       "      <td>Zabour, Miss. Hileni</td>\n",
       "      <td>1</td>\n",
       "      <td>14.5</td>\n",
       "      <td>1</td>\n",
       "      <td>0</td>\n",
       "      <td>2665</td>\n",
       "      <td>14.4542</td>\n",
       "      <td>...</td>\n",
       "      <td>1</td>\n",
       "      <td>1</td>\n",
       "      <td>1</td>\n",
       "      <td>Miss</td>\n",
       "      <td>False</td>\n",
       "      <td>False</td>\n",
       "      <td>False</td>\n",
       "      <td>False</td>\n",
       "      <td>False</td>\n",
       "      <td>True</td>\n",
       "    </tr>\n",
       "    <tr>\n",
       "      <th>177</th>\n",
       "      <td>178</td>\n",
       "      <td>0</td>\n",
       "      <td>1</td>\n",
       "      <td>Isham, Miss. Ann Elizabeth</td>\n",
       "      <td>1</td>\n",
       "      <td>50.0</td>\n",
       "      <td>0</td>\n",
       "      <td>0</td>\n",
       "      <td>PC 17595</td>\n",
       "      <td>28.7125</td>\n",
       "      <td>...</td>\n",
       "      <td>0</td>\n",
       "      <td>0</td>\n",
       "      <td>5</td>\n",
       "      <td>Miss</td>\n",
       "      <td>False</td>\n",
       "      <td>False</td>\n",
       "      <td>False</td>\n",
       "      <td>False</td>\n",
       "      <td>False</td>\n",
       "      <td>True</td>\n",
       "    </tr>\n",
       "  </tbody>\n",
       "</table>\n",
       "<p>5 rows × 23 columns</p>\n",
       "</div>"
      ],
      "text/plain": [
       "     PassengerId  Survived  Pclass                           Name Sex   Age  \\\n",
       "81            82         1       3    Sheerlinck, Mr. Jan Baptist   0  29.0   \n",
       "657          658         0       3  Bourke, Mrs. John (Catherine)   1  32.0   \n",
       "419          420         0       3      Van Impe, Miss. Catharina   1  10.0   \n",
       "111          112         0       3           Zabour, Miss. Hileni   1  14.5   \n",
       "177          178         0       1     Isham, Miss. Ann Elizabeth   1  50.0   \n",
       "\n",
       "     SibSp  Parch    Ticket     Fare    ...     DependencySquare Child  \\\n",
       "81       0      0    345779   9.5000    ...                    0     0   \n",
       "657      1      1    364849  15.5000    ...                    4     0   \n",
       "419      0      2    345773  24.1500    ...                    4     1   \n",
       "111      1      0      2665  14.4542    ...                    1     1   \n",
       "177      0      0  PC 17595  28.7125    ...                    0     0   \n",
       "\n",
       "     AgeGroup  Title  Title_Mrs  Title_Royalty Title_Master Title_Officer  \\\n",
       "81          3     Mr      False          False        False         False   \n",
       "657         3    Mrs       True          False        False         False   \n",
       "419         1   Miss      False          False        False         False   \n",
       "111         1   Miss      False          False        False         False   \n",
       "177         5   Miss      False          False        False         False   \n",
       "\n",
       "    Title_Mr Title_Miss  \n",
       "81      True      False  \n",
       "657    False      False  \n",
       "419    False       True  \n",
       "111    False       True  \n",
       "177    False       True  \n",
       "\n",
       "[5 rows x 23 columns]"
      ]
     },
     "execution_count": 591,
     "metadata": {},
     "output_type": "execute_result"
    }
   ],
   "source": [
    "vprob = my_forest.predict_proba(validation[features].values)\n",
    "vpred = my_forest.predict(validation[features].values)\n",
    "validation[validation[\"Survived\"]!=vpred].head()"
   ]
  },
  {
   "cell_type": "code",
   "execution_count": 592,
   "metadata": {
    "collapsed": false
   },
   "outputs": [
    {
     "data": {
      "text/plain": [
       "81     1\n",
       "657    0\n",
       "419    0\n",
       "111    0\n",
       "177    0\n",
       "Name: Survived, dtype: int64"
      ]
     },
     "execution_count": 592,
     "metadata": {},
     "output_type": "execute_result"
    }
   ],
   "source": [
    "validation[\"Survived\"][validation[\"Survived\"]!=vpred].head()"
   ]
  },
  {
   "cell_type": "code",
   "execution_count": 593,
   "metadata": {
    "collapsed": false
   },
   "outputs": [
    {
     "name": "stderr",
     "output_type": "stream",
     "text": [
      "/Users/premkumar/anaconda/envs/dato-env/lib/python2.7/site-packages/IPython/kernel/__main__.py:1: FutureWarning: in the future, boolean array-likes will be handled as a boolean array index\n",
      "  if __name__ == '__main__':\n"
     ]
    },
    {
     "data": {
      "text/plain": [
       "array([0, 0, 0, 0, 0])"
      ]
     },
     "execution_count": 593,
     "metadata": {},
     "output_type": "execute_result"
    }
   ],
   "source": [
    "vpred[validation[\"Survived\"]!=vpred][0:5]"
   ]
  },
  {
   "cell_type": "code",
   "execution_count": 594,
   "metadata": {
    "collapsed": false
   },
   "outputs": [
    {
     "name": "stderr",
     "output_type": "stream",
     "text": [
      "/Users/premkumar/anaconda/envs/dato-env/lib/python2.7/site-packages/IPython/kernel/__main__.py:1: FutureWarning: in the future, boolean array-likes will be handled as a boolean array index\n",
      "  if __name__ == '__main__':\n"
     ]
    },
    {
     "data": {
      "text/plain": [
       "array([[ 0.95078608,  0.04921392],\n",
       "       [ 0.95078608,  0.04921392],\n",
       "       [ 0.95078608,  0.04921392],\n",
       "       [ 0.95078608,  0.04921392],\n",
       "       [ 0.95078608,  0.04921392]])"
      ]
     },
     "execution_count": 594,
     "metadata": {},
     "output_type": "execute_result"
    }
   ],
   "source": [
    "vprob[validation[\"Survived\"]!=vpred][0:5]"
   ]
  },
  {
   "cell_type": "code",
   "execution_count": 595,
   "metadata": {
    "collapsed": false
   },
   "outputs": [
    {
     "ename": "NameError",
     "evalue": "name 'combined' is not defined",
     "output_type": "error",
     "traceback": [
      "\u001b[0;31m---------------------------------------------------------------------------\u001b[0m",
      "\u001b[0;31mNameError\u001b[0m                                 Traceback (most recent call last)",
      "\u001b[0;32m<ipython-input-595-b6e37dd20eb8>\u001b[0m in \u001b[0;36m<module>\u001b[0;34m()\u001b[0m\n\u001b[1;32m     23\u001b[0m                         }\n\u001b[1;32m     24\u001b[0m \u001b[0mtrain\u001b[0m\u001b[0;34m[\u001b[0m\u001b[0;34m'Title'\u001b[0m\u001b[0;34m]\u001b[0m \u001b[0;34m=\u001b[0m \u001b[0mtrain\u001b[0m\u001b[0;34m.\u001b[0m\u001b[0mTitle\u001b[0m\u001b[0;34m.\u001b[0m\u001b[0mmap\u001b[0m\u001b[0;34m(\u001b[0m\u001b[0mTitle_Dictionary\u001b[0m\u001b[0;34m)\u001b[0m\u001b[0;34m\u001b[0m\u001b[0m\n\u001b[0;32m---> 25\u001b[0;31m \u001b[0mtitles_dummies\u001b[0m \u001b[0;34m=\u001b[0m \u001b[0mpd\u001b[0m\u001b[0;34m.\u001b[0m\u001b[0mget_dummies\u001b[0m\u001b[0;34m(\u001b[0m\u001b[0mcombined\u001b[0m\u001b[0;34m[\u001b[0m\u001b[0;34m'Title'\u001b[0m\u001b[0;34m]\u001b[0m\u001b[0;34m,\u001b[0m\u001b[0mprefix\u001b[0m\u001b[0;34m=\u001b[0m\u001b[0;34m'Title'\u001b[0m\u001b[0;34m)\u001b[0m\u001b[0;34m\u001b[0m\u001b[0m\n\u001b[0m\u001b[1;32m     26\u001b[0m \u001b[0mtrain\u001b[0m \u001b[0;34m=\u001b[0m \u001b[0mpd\u001b[0m\u001b[0;34m.\u001b[0m\u001b[0mconcat\u001b[0m\u001b[0;34m(\u001b[0m\u001b[0;34m[\u001b[0m\u001b[0mtrain\u001b[0m\u001b[0;34m,\u001b[0m\u001b[0mtitles_dummies\u001b[0m\u001b[0;34m]\u001b[0m\u001b[0;34m,\u001b[0m\u001b[0maxis\u001b[0m\u001b[0;34m=\u001b[0m\u001b[0;36m1\u001b[0m\u001b[0;34m)\u001b[0m\u001b[0;34m\u001b[0m\u001b[0m\n",
      "\u001b[0;31mNameError\u001b[0m: name 'combined' is not defined"
     ]
    }
   ],
   "source": [
    "train[\"Title\"] = train[\"Name\"].apply(lambda x: x.split(',')[1].split('.')[0].strip())\n",
    " # a map of more aggregated titles\n",
    "Title_Dictionary = {\n",
    "                        \"Capt\":       \"Officer\",\n",
    "                        \"Col\":        \"Officer\",\n",
    "                        \"Major\":      \"Officer\",\n",
    "                        \"Jonkheer\":   \"Royalty\",\n",
    "                        \"Don\":        \"Royalty\",\n",
    "                        \"Sir\" :       \"Royalty\",\n",
    "                        \"Dr\":         \"Officer\",\n",
    "                        \"Rev\":        \"Officer\",\n",
    "                        \"the Countess\":\"Royalty\",\n",
    "                        \"Dona\":       \"Royalty\",\n",
    "                        \"Mme\":        \"Mrs\",\n",
    "                        \"Mlle\":       \"Miss\",\n",
    "                        \"Ms\":         \"Mrs\",\n",
    "                        \"Mr\" :        \"Mr\",\n",
    "                        \"Mrs\" :       \"Mrs\",\n",
    "                        \"Miss\" :      \"Miss\",\n",
    "                        \"Master\" :    \"Master\",\n",
    "                        \"Lady\" :      \"Royalty\"\n",
    "\n",
    "                        }\n",
    "train['Title'] = train.Title.map(Title_Dictionary)\n",
    "titles_dummies = pd.get_dummies(combined['Title'],prefix='Title')\n",
    "train = pd.concat([train,titles_dummies],axis=1)"
   ]
  },
  {
   "cell_type": "code",
   "execution_count": null,
   "metadata": {
    "collapsed": false
   },
   "outputs": [],
   "source": [
    "from collections import Counter\n",
    "c=Counter(titles)\n",
    "c"
   ]
  },
  {
   "cell_type": "code",
   "execution_count": null,
   "metadata": {
    "collapsed": false
   },
   "outputs": [],
   "source": [
    "c.most_common()"
   ]
  },
  {
   "cell_type": "code",
   "execution_count": null,
   "metadata": {
    "collapsed": false
   },
   "outputs": [],
   "source": [
    "def abc():\n",
    "    return [1,2]\n",
    "\n",
    "abc()"
   ]
  },
  {
   "cell_type": "code",
   "execution_count": null,
   "metadata": {
    "collapsed": false
   },
   "outputs": [],
   "source": [
    "set(Title_Dictionary.values())"
   ]
  },
  {
   "cell_type": "code",
   "execution_count": null,
   "metadata": {
    "collapsed": false
   },
   "outputs": [],
   "source": [
    "train.columns.values"
   ]
  },
  {
   "cell_type": "code",
   "execution_count": null,
   "metadata": {
    "collapsed": false
   },
   "outputs": [],
   "source": [
    "tcv = list(train.columns.values)"
   ]
  },
  {
   "cell_type": "code",
   "execution_count": null,
   "metadata": {
    "collapsed": false
   },
   "outputs": [],
   "source": [
    "tcv.remove('Sex')"
   ]
  },
  {
   "cell_type": "code",
   "execution_count": null,
   "metadata": {
    "collapsed": false
   },
   "outputs": [],
   "source": [
    "tcv"
   ]
  },
  {
   "cell_type": "code",
   "execution_count": null,
   "metadata": {
    "collapsed": true
   },
   "outputs": [],
   "source": []
  }
 ],
 "metadata": {
  "kernelspec": {
   "display_name": "Python 2",
   "language": "python",
   "name": "python2"
  },
  "language_info": {
   "codemirror_mode": {
    "name": "ipython",
    "version": 2
   },
   "file_extension": ".py",
   "mimetype": "text/x-python",
   "name": "python",
   "nbconvert_exporter": "python",
   "pygments_lexer": "ipython2",
   "version": "2.7.10"
  }
 },
 "nbformat": 4,
 "nbformat_minor": 0
}
